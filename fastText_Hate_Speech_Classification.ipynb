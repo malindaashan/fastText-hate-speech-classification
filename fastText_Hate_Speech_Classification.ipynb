{
  "cells": [
    {
      "cell_type": "code",
      "execution_count": null,
      "id": "af398bc8",
      "metadata": {
        "id": "af398bc8"
      },
      "outputs": [],
      "source": [
        "import pandas as pd\n",
        "import unicodedata\n",
        "import re\n",
        "import nltk"
      ]
    },
    {
      "cell_type": "code",
      "source": [
        "from google.colab import drive\n",
        "import pandas as pd\n",
        "import numpy as np\n",
        "from sklearn import linear_model\n",
        "from sklearn import datasets\n",
        "from sklearn import preprocessing\n",
        "from sklearn.preprocessing import StandardScaler\n",
        "import nltk\n",
        "\n",
        "# Loading data via google drive\n",
        "drive.mount('/content/drive')"
      ],
      "metadata": {
        "colab": {
          "base_uri": "https://localhost:8080/"
        },
        "id": "gk7lSOqtgOZi",
        "outputId": "36ab655d-c542-437f-e419-53e42e4c8a2e"
      },
      "id": "gk7lSOqtgOZi",
      "execution_count": null,
      "outputs": [
        {
          "output_type": "stream",
          "name": "stdout",
          "text": [
            "Mounted at /content/drive\n"
          ]
        }
      ]
    },
    {
      "cell_type": "code",
      "execution_count": null,
      "id": "a30f85cc",
      "metadata": {
        "colab": {
          "base_uri": "https://localhost:8080/",
          "height": 423
        },
        "id": "a30f85cc",
        "outputId": "46c46160-5126-4c81-8e31-095403c52a58"
      },
      "outputs": [
        {
          "output_type": "execute_result",
          "data": {
            "text/plain": [
              "        id                                            comment  label\n",
              "0        1                    `හුදෙකලා´ එකේ `ද´ ඇහෙනවද කාටහරි      0\n",
              "1        2                              18ක පෙනුමක් තියෙන්නේ       0\n",
              "2        3   2020 එනවා කිව්නාට මෙහෙම එයි කියලා හිතුවේ නෑ පට්ට      0\n",
              "3        4                                  25 කැල්ල..හම්මෝ..      0\n",
              "4        5                  25 කෙල්ල අයියලගෙ කාලද කොහෙද ඉන්නෙ      1\n",
              "...    ...                                                ...    ...\n",
              "6340  6341  ෆට්ට ඒත් ඉතින් ඔහේ ඔක්සිජන් ඔනී නැතී සෙට් එකක්...      0\n",
              "6341  6342                                             ෆයිනලි      0\n",
              "6342  6343                                ෆුකෙන් හිනා මේවට...      1\n",
              "6343  6344              ෆෝන් එක චාර්ජ් කරගනින්,29%. පට්ට.....      0\n",
              "6344  6345  ෆ්ලෑශ් ටෙලිඩ්‍රාමා එක ඇත්ත තියරියක් වෙන්නත් ඇත...      0\n",
              "\n",
              "[6345 rows x 3 columns]"
            ],
            "text/html": [
              "\n",
              "  <div id=\"df-72e294ce-52f8-4db5-b3a0-857fdb02d0ae\" class=\"colab-df-container\">\n",
              "    <div>\n",
              "<style scoped>\n",
              "    .dataframe tbody tr th:only-of-type {\n",
              "        vertical-align: middle;\n",
              "    }\n",
              "\n",
              "    .dataframe tbody tr th {\n",
              "        vertical-align: top;\n",
              "    }\n",
              "\n",
              "    .dataframe thead th {\n",
              "        text-align: right;\n",
              "    }\n",
              "</style>\n",
              "<table border=\"1\" class=\"dataframe\">\n",
              "  <thead>\n",
              "    <tr style=\"text-align: right;\">\n",
              "      <th></th>\n",
              "      <th>id</th>\n",
              "      <th>comment</th>\n",
              "      <th>label</th>\n",
              "    </tr>\n",
              "  </thead>\n",
              "  <tbody>\n",
              "    <tr>\n",
              "      <th>0</th>\n",
              "      <td>1</td>\n",
              "      <td>`හුදෙකලා´ එකේ `ද´ ඇහෙනවද කාටහරි</td>\n",
              "      <td>0</td>\n",
              "    </tr>\n",
              "    <tr>\n",
              "      <th>1</th>\n",
              "      <td>2</td>\n",
              "      <td>18ක පෙනුමක් තියෙන්නේ</td>\n",
              "      <td>0</td>\n",
              "    </tr>\n",
              "    <tr>\n",
              "      <th>2</th>\n",
              "      <td>3</td>\n",
              "      <td>2020 එනවා කිව්නාට මෙහෙම එයි කියලා හිතුවේ නෑ පට්ට</td>\n",
              "      <td>0</td>\n",
              "    </tr>\n",
              "    <tr>\n",
              "      <th>3</th>\n",
              "      <td>4</td>\n",
              "      <td>25 කැල්ල..හම්මෝ..</td>\n",
              "      <td>0</td>\n",
              "    </tr>\n",
              "    <tr>\n",
              "      <th>4</th>\n",
              "      <td>5</td>\n",
              "      <td>25 කෙල්ල අයියලගෙ කාලද කොහෙද ඉන්නෙ</td>\n",
              "      <td>1</td>\n",
              "    </tr>\n",
              "    <tr>\n",
              "      <th>...</th>\n",
              "      <td>...</td>\n",
              "      <td>...</td>\n",
              "      <td>...</td>\n",
              "    </tr>\n",
              "    <tr>\n",
              "      <th>6340</th>\n",
              "      <td>6341</td>\n",
              "      <td>ෆට්ට ඒත් ඉතින් ඔහේ ඔක්සිජන් ඔනී නැතී සෙට් එකක්...</td>\n",
              "      <td>0</td>\n",
              "    </tr>\n",
              "    <tr>\n",
              "      <th>6341</th>\n",
              "      <td>6342</td>\n",
              "      <td>ෆයිනලි</td>\n",
              "      <td>0</td>\n",
              "    </tr>\n",
              "    <tr>\n",
              "      <th>6342</th>\n",
              "      <td>6343</td>\n",
              "      <td>ෆුකෙන් හිනා මේවට...</td>\n",
              "      <td>1</td>\n",
              "    </tr>\n",
              "    <tr>\n",
              "      <th>6343</th>\n",
              "      <td>6344</td>\n",
              "      <td>ෆෝන් එක චාර්ජ් කරගනින්,29%. පට්ට.....</td>\n",
              "      <td>0</td>\n",
              "    </tr>\n",
              "    <tr>\n",
              "      <th>6344</th>\n",
              "      <td>6345</td>\n",
              "      <td>ෆ්ලෑශ් ටෙලිඩ්‍රාමා එක ඇත්ත තියරියක් වෙන්නත් ඇත...</td>\n",
              "      <td>0</td>\n",
              "    </tr>\n",
              "  </tbody>\n",
              "</table>\n",
              "<p>6345 rows × 3 columns</p>\n",
              "</div>\n",
              "    <div class=\"colab-df-buttons\">\n",
              "\n",
              "  <div class=\"colab-df-container\">\n",
              "    <button class=\"colab-df-convert\" onclick=\"convertToInteractive('df-72e294ce-52f8-4db5-b3a0-857fdb02d0ae')\"\n",
              "            title=\"Convert this dataframe to an interactive table.\"\n",
              "            style=\"display:none;\">\n",
              "\n",
              "  <svg xmlns=\"http://www.w3.org/2000/svg\" height=\"24px\" viewBox=\"0 -960 960 960\">\n",
              "    <path d=\"M120-120v-720h720v720H120Zm60-500h600v-160H180v160Zm220 220h160v-160H400v160Zm0 220h160v-160H400v160ZM180-400h160v-160H180v160Zm440 0h160v-160H620v160ZM180-180h160v-160H180v160Zm440 0h160v-160H620v160Z\"/>\n",
              "  </svg>\n",
              "    </button>\n",
              "\n",
              "  <style>\n",
              "    .colab-df-container {\n",
              "      display:flex;\n",
              "      gap: 12px;\n",
              "    }\n",
              "\n",
              "    .colab-df-convert {\n",
              "      background-color: #E8F0FE;\n",
              "      border: none;\n",
              "      border-radius: 50%;\n",
              "      cursor: pointer;\n",
              "      display: none;\n",
              "      fill: #1967D2;\n",
              "      height: 32px;\n",
              "      padding: 0 0 0 0;\n",
              "      width: 32px;\n",
              "    }\n",
              "\n",
              "    .colab-df-convert:hover {\n",
              "      background-color: #E2EBFA;\n",
              "      box-shadow: 0px 1px 2px rgba(60, 64, 67, 0.3), 0px 1px 3px 1px rgba(60, 64, 67, 0.15);\n",
              "      fill: #174EA6;\n",
              "    }\n",
              "\n",
              "    .colab-df-buttons div {\n",
              "      margin-bottom: 4px;\n",
              "    }\n",
              "\n",
              "    [theme=dark] .colab-df-convert {\n",
              "      background-color: #3B4455;\n",
              "      fill: #D2E3FC;\n",
              "    }\n",
              "\n",
              "    [theme=dark] .colab-df-convert:hover {\n",
              "      background-color: #434B5C;\n",
              "      box-shadow: 0px 1px 3px 1px rgba(0, 0, 0, 0.15);\n",
              "      filter: drop-shadow(0px 1px 2px rgba(0, 0, 0, 0.3));\n",
              "      fill: #FFFFFF;\n",
              "    }\n",
              "  </style>\n",
              "\n",
              "    <script>\n",
              "      const buttonEl =\n",
              "        document.querySelector('#df-72e294ce-52f8-4db5-b3a0-857fdb02d0ae button.colab-df-convert');\n",
              "      buttonEl.style.display =\n",
              "        google.colab.kernel.accessAllowed ? 'block' : 'none';\n",
              "\n",
              "      async function convertToInteractive(key) {\n",
              "        const element = document.querySelector('#df-72e294ce-52f8-4db5-b3a0-857fdb02d0ae');\n",
              "        const dataTable =\n",
              "          await google.colab.kernel.invokeFunction('convertToInteractive',\n",
              "                                                    [key], {});\n",
              "        if (!dataTable) return;\n",
              "\n",
              "        const docLinkHtml = 'Like what you see? Visit the ' +\n",
              "          '<a target=\"_blank\" href=https://colab.research.google.com/notebooks/data_table.ipynb>data table notebook</a>'\n",
              "          + ' to learn more about interactive tables.';\n",
              "        element.innerHTML = '';\n",
              "        dataTable['output_type'] = 'display_data';\n",
              "        await google.colab.output.renderOutput(dataTable, element);\n",
              "        const docLink = document.createElement('div');\n",
              "        docLink.innerHTML = docLinkHtml;\n",
              "        element.appendChild(docLink);\n",
              "      }\n",
              "    </script>\n",
              "  </div>\n",
              "\n",
              "\n",
              "<div id=\"df-15dffeee-0946-475c-860d-b5855764d62b\">\n",
              "  <button class=\"colab-df-quickchart\" onclick=\"quickchart('df-15dffeee-0946-475c-860d-b5855764d62b')\"\n",
              "            title=\"Suggest charts\"\n",
              "            style=\"display:none;\">\n",
              "\n",
              "<svg xmlns=\"http://www.w3.org/2000/svg\" height=\"24px\"viewBox=\"0 0 24 24\"\n",
              "     width=\"24px\">\n",
              "    <g>\n",
              "        <path d=\"M19 3H5c-1.1 0-2 .9-2 2v14c0 1.1.9 2 2 2h14c1.1 0 2-.9 2-2V5c0-1.1-.9-2-2-2zM9 17H7v-7h2v7zm4 0h-2V7h2v10zm4 0h-2v-4h2v4z\"/>\n",
              "    </g>\n",
              "</svg>\n",
              "  </button>\n",
              "\n",
              "<style>\n",
              "  .colab-df-quickchart {\n",
              "      --bg-color: #E8F0FE;\n",
              "      --fill-color: #1967D2;\n",
              "      --hover-bg-color: #E2EBFA;\n",
              "      --hover-fill-color: #174EA6;\n",
              "      --disabled-fill-color: #AAA;\n",
              "      --disabled-bg-color: #DDD;\n",
              "  }\n",
              "\n",
              "  [theme=dark] .colab-df-quickchart {\n",
              "      --bg-color: #3B4455;\n",
              "      --fill-color: #D2E3FC;\n",
              "      --hover-bg-color: #434B5C;\n",
              "      --hover-fill-color: #FFFFFF;\n",
              "      --disabled-bg-color: #3B4455;\n",
              "      --disabled-fill-color: #666;\n",
              "  }\n",
              "\n",
              "  .colab-df-quickchart {\n",
              "    background-color: var(--bg-color);\n",
              "    border: none;\n",
              "    border-radius: 50%;\n",
              "    cursor: pointer;\n",
              "    display: none;\n",
              "    fill: var(--fill-color);\n",
              "    height: 32px;\n",
              "    padding: 0;\n",
              "    width: 32px;\n",
              "  }\n",
              "\n",
              "  .colab-df-quickchart:hover {\n",
              "    background-color: var(--hover-bg-color);\n",
              "    box-shadow: 0 1px 2px rgba(60, 64, 67, 0.3), 0 1px 3px 1px rgba(60, 64, 67, 0.15);\n",
              "    fill: var(--button-hover-fill-color);\n",
              "  }\n",
              "\n",
              "  .colab-df-quickchart-complete:disabled,\n",
              "  .colab-df-quickchart-complete:disabled:hover {\n",
              "    background-color: var(--disabled-bg-color);\n",
              "    fill: var(--disabled-fill-color);\n",
              "    box-shadow: none;\n",
              "  }\n",
              "\n",
              "  .colab-df-spinner {\n",
              "    border: 2px solid var(--fill-color);\n",
              "    border-color: transparent;\n",
              "    border-bottom-color: var(--fill-color);\n",
              "    animation:\n",
              "      spin 1s steps(1) infinite;\n",
              "  }\n",
              "\n",
              "  @keyframes spin {\n",
              "    0% {\n",
              "      border-color: transparent;\n",
              "      border-bottom-color: var(--fill-color);\n",
              "      border-left-color: var(--fill-color);\n",
              "    }\n",
              "    20% {\n",
              "      border-color: transparent;\n",
              "      border-left-color: var(--fill-color);\n",
              "      border-top-color: var(--fill-color);\n",
              "    }\n",
              "    30% {\n",
              "      border-color: transparent;\n",
              "      border-left-color: var(--fill-color);\n",
              "      border-top-color: var(--fill-color);\n",
              "      border-right-color: var(--fill-color);\n",
              "    }\n",
              "    40% {\n",
              "      border-color: transparent;\n",
              "      border-right-color: var(--fill-color);\n",
              "      border-top-color: var(--fill-color);\n",
              "    }\n",
              "    60% {\n",
              "      border-color: transparent;\n",
              "      border-right-color: var(--fill-color);\n",
              "    }\n",
              "    80% {\n",
              "      border-color: transparent;\n",
              "      border-right-color: var(--fill-color);\n",
              "      border-bottom-color: var(--fill-color);\n",
              "    }\n",
              "    90% {\n",
              "      border-color: transparent;\n",
              "      border-bottom-color: var(--fill-color);\n",
              "    }\n",
              "  }\n",
              "</style>\n",
              "\n",
              "  <script>\n",
              "    async function quickchart(key) {\n",
              "      const quickchartButtonEl =\n",
              "        document.querySelector('#' + key + ' button');\n",
              "      quickchartButtonEl.disabled = true;  // To prevent multiple clicks.\n",
              "      quickchartButtonEl.classList.add('colab-df-spinner');\n",
              "      try {\n",
              "        const charts = await google.colab.kernel.invokeFunction(\n",
              "            'suggestCharts', [key], {});\n",
              "      } catch (error) {\n",
              "        console.error('Error during call to suggestCharts:', error);\n",
              "      }\n",
              "      quickchartButtonEl.classList.remove('colab-df-spinner');\n",
              "      quickchartButtonEl.classList.add('colab-df-quickchart-complete');\n",
              "    }\n",
              "    (() => {\n",
              "      let quickchartButtonEl =\n",
              "        document.querySelector('#df-15dffeee-0946-475c-860d-b5855764d62b button');\n",
              "      quickchartButtonEl.style.display =\n",
              "        google.colab.kernel.accessAllowed ? 'block' : 'none';\n",
              "    })();\n",
              "  </script>\n",
              "</div>\n",
              "\n",
              "  <div id=\"id_4e1ce776-5836-4fab-aecc-b1b6772f0f81\">\n",
              "    <style>\n",
              "      .colab-df-generate {\n",
              "        background-color: #E8F0FE;\n",
              "        border: none;\n",
              "        border-radius: 50%;\n",
              "        cursor: pointer;\n",
              "        display: none;\n",
              "        fill: #1967D2;\n",
              "        height: 32px;\n",
              "        padding: 0 0 0 0;\n",
              "        width: 32px;\n",
              "      }\n",
              "\n",
              "      .colab-df-generate:hover {\n",
              "        background-color: #E2EBFA;\n",
              "        box-shadow: 0px 1px 2px rgba(60, 64, 67, 0.3), 0px 1px 3px 1px rgba(60, 64, 67, 0.15);\n",
              "        fill: #174EA6;\n",
              "      }\n",
              "\n",
              "      [theme=dark] .colab-df-generate {\n",
              "        background-color: #3B4455;\n",
              "        fill: #D2E3FC;\n",
              "      }\n",
              "\n",
              "      [theme=dark] .colab-df-generate:hover {\n",
              "        background-color: #434B5C;\n",
              "        box-shadow: 0px 1px 3px 1px rgba(0, 0, 0, 0.15);\n",
              "        filter: drop-shadow(0px 1px 2px rgba(0, 0, 0, 0.3));\n",
              "        fill: #FFFFFF;\n",
              "      }\n",
              "    </style>\n",
              "    <button class=\"colab-df-generate\" onclick=\"generateWithVariable('data_df')\"\n",
              "            title=\"Generate code using this dataframe.\"\n",
              "            style=\"display:none;\">\n",
              "\n",
              "  <svg xmlns=\"http://www.w3.org/2000/svg\" height=\"24px\"viewBox=\"0 0 24 24\"\n",
              "       width=\"24px\">\n",
              "    <path d=\"M7,19H8.4L18.45,9,17,7.55,7,17.6ZM5,21V16.75L18.45,3.32a2,2,0,0,1,2.83,0l1.4,1.43a1.91,1.91,0,0,1,.58,1.4,1.91,1.91,0,0,1-.58,1.4L9.25,21ZM18.45,9,17,7.55Zm-12,3A5.31,5.31,0,0,0,4.9,8.1,5.31,5.31,0,0,0,1,6.5,5.31,5.31,0,0,0,4.9,4.9,5.31,5.31,0,0,0,6.5,1,5.31,5.31,0,0,0,8.1,4.9,5.31,5.31,0,0,0,12,6.5,5.46,5.46,0,0,0,6.5,12Z\"/>\n",
              "  </svg>\n",
              "    </button>\n",
              "    <script>\n",
              "      (() => {\n",
              "      const buttonEl =\n",
              "        document.querySelector('#id_4e1ce776-5836-4fab-aecc-b1b6772f0f81 button.colab-df-generate');\n",
              "      buttonEl.style.display =\n",
              "        google.colab.kernel.accessAllowed ? 'block' : 'none';\n",
              "\n",
              "      buttonEl.onclick = () => {\n",
              "        google.colab.notebook.generateWithVariable('data_df');\n",
              "      }\n",
              "      })();\n",
              "    </script>\n",
              "  </div>\n",
              "\n",
              "    </div>\n",
              "  </div>\n"
            ]
          },
          "metadata": {},
          "execution_count": 3
        }
      ],
      "source": [
        "data_df = pd.read_csv(r\"/content/drive/My Drive/data/sinhala-hate-speech-dataset.csv\")\n",
        "data_df = pd.DataFrame(data_df)\n",
        "data_df"
      ]
    },
    {
      "cell_type": "code",
      "execution_count": null,
      "id": "b1a792a1",
      "metadata": {
        "id": "b1a792a1"
      },
      "outputs": [],
      "source": [
        "def lineBreakReplace(text):\n",
        "    return text.replace(\"\\r\\n\", \" \")"
      ]
    },
    {
      "cell_type": "code",
      "execution_count": null,
      "id": "19aaf9de",
      "metadata": {
        "id": "19aaf9de"
      },
      "outputs": [],
      "source": [
        "data_df['comment'] =data_df.apply(lambda x: lineBreakReplace(x.comment), axis=1)"
      ]
    },
    {
      "cell_type": "code",
      "execution_count": null,
      "id": "85c468d6",
      "metadata": {
        "id": "85c468d6"
      },
      "outputs": [],
      "source": [
        "def removeEscapSequences(text):\n",
        "    return \"\".join(ch for ch in text if unicodedata.category(ch)[0]!=\"C\")"
      ]
    },
    {
      "cell_type": "code",
      "execution_count": null,
      "id": "4e767818",
      "metadata": {
        "id": "4e767818"
      },
      "outputs": [],
      "source": [
        "data_df['comment'] =data_df.apply(lambda x: removeEscapSequences(x.comment), axis=1)"
      ]
    },
    {
      "cell_type": "code",
      "execution_count": null,
      "id": "ec360e61",
      "metadata": {
        "id": "ec360e61"
      },
      "outputs": [],
      "source": [
        "def remove_digits(text):\n",
        "    return ''.join([i for i in text if not i.isdigit()])"
      ]
    },
    {
      "cell_type": "code",
      "execution_count": null,
      "id": "0ff52324",
      "metadata": {
        "id": "0ff52324"
      },
      "outputs": [],
      "source": [
        "data_df['comment'] =data_df.apply(lambda x: removeEscapSequences(x.comment), axis=1)"
      ]
    },
    {
      "cell_type": "code",
      "execution_count": null,
      "id": "7c8b90f3",
      "metadata": {
        "id": "7c8b90f3"
      },
      "outputs": [],
      "source": [
        "def removeHtmlTags(text):\n",
        "    p = re.compile(r'<.*?>')\n",
        "    return p.sub('', text)"
      ]
    },
    {
      "cell_type": "code",
      "execution_count": null,
      "id": "a19ab1f7",
      "metadata": {
        "id": "a19ab1f7"
      },
      "outputs": [],
      "source": [
        "data_df['comment'] = data_df.apply(lambda x: removeHtmlTags(x.comment), axis=1)"
      ]
    },
    {
      "cell_type": "code",
      "execution_count": null,
      "id": "6f7710d2",
      "metadata": {
        "colab": {
          "base_uri": "https://localhost:8080/",
          "height": 206
        },
        "id": "6f7710d2",
        "outputId": "f182fab2-9219-485a-b71c-f5397a2a17f0"
      },
      "outputs": [
        {
          "output_type": "execute_result",
          "data": {
            "text/plain": [
              "   id                                           comment  label\n",
              "0   1                   `හුදෙකලා´ එකේ `ද´ ඇහෙනවද කාටහරි      0\n",
              "1   2                             18ක පෙනුමක් තියෙන්නේ       0\n",
              "2   3  2020 එනවා කිව්නාට මෙහෙම එයි කියලා හිතුවේ නෑ පට්ට      0\n",
              "3   4                                 25 කැල්ල..හම්මෝ..      0\n",
              "4   5                 25 කෙල්ල අයියලගෙ කාලද කොහෙද ඉන්නෙ      1"
            ],
            "text/html": [
              "\n",
              "  <div id=\"df-73bdd89c-eeaa-4d2d-a236-0b733b1e4294\" class=\"colab-df-container\">\n",
              "    <div>\n",
              "<style scoped>\n",
              "    .dataframe tbody tr th:only-of-type {\n",
              "        vertical-align: middle;\n",
              "    }\n",
              "\n",
              "    .dataframe tbody tr th {\n",
              "        vertical-align: top;\n",
              "    }\n",
              "\n",
              "    .dataframe thead th {\n",
              "        text-align: right;\n",
              "    }\n",
              "</style>\n",
              "<table border=\"1\" class=\"dataframe\">\n",
              "  <thead>\n",
              "    <tr style=\"text-align: right;\">\n",
              "      <th></th>\n",
              "      <th>id</th>\n",
              "      <th>comment</th>\n",
              "      <th>label</th>\n",
              "    </tr>\n",
              "  </thead>\n",
              "  <tbody>\n",
              "    <tr>\n",
              "      <th>0</th>\n",
              "      <td>1</td>\n",
              "      <td>`හුදෙකලා´ එකේ `ද´ ඇහෙනවද කාටහරි</td>\n",
              "      <td>0</td>\n",
              "    </tr>\n",
              "    <tr>\n",
              "      <th>1</th>\n",
              "      <td>2</td>\n",
              "      <td>18ක පෙනුමක් තියෙන්නේ</td>\n",
              "      <td>0</td>\n",
              "    </tr>\n",
              "    <tr>\n",
              "      <th>2</th>\n",
              "      <td>3</td>\n",
              "      <td>2020 එනවා කිව්නාට මෙහෙම එයි කියලා හිතුවේ නෑ පට්ට</td>\n",
              "      <td>0</td>\n",
              "    </tr>\n",
              "    <tr>\n",
              "      <th>3</th>\n",
              "      <td>4</td>\n",
              "      <td>25 කැල්ල..හම්මෝ..</td>\n",
              "      <td>0</td>\n",
              "    </tr>\n",
              "    <tr>\n",
              "      <th>4</th>\n",
              "      <td>5</td>\n",
              "      <td>25 කෙල්ල අයියලගෙ කාලද කොහෙද ඉන්නෙ</td>\n",
              "      <td>1</td>\n",
              "    </tr>\n",
              "  </tbody>\n",
              "</table>\n",
              "</div>\n",
              "    <div class=\"colab-df-buttons\">\n",
              "\n",
              "  <div class=\"colab-df-container\">\n",
              "    <button class=\"colab-df-convert\" onclick=\"convertToInteractive('df-73bdd89c-eeaa-4d2d-a236-0b733b1e4294')\"\n",
              "            title=\"Convert this dataframe to an interactive table.\"\n",
              "            style=\"display:none;\">\n",
              "\n",
              "  <svg xmlns=\"http://www.w3.org/2000/svg\" height=\"24px\" viewBox=\"0 -960 960 960\">\n",
              "    <path d=\"M120-120v-720h720v720H120Zm60-500h600v-160H180v160Zm220 220h160v-160H400v160Zm0 220h160v-160H400v160ZM180-400h160v-160H180v160Zm440 0h160v-160H620v160ZM180-180h160v-160H180v160Zm440 0h160v-160H620v160Z\"/>\n",
              "  </svg>\n",
              "    </button>\n",
              "\n",
              "  <style>\n",
              "    .colab-df-container {\n",
              "      display:flex;\n",
              "      gap: 12px;\n",
              "    }\n",
              "\n",
              "    .colab-df-convert {\n",
              "      background-color: #E8F0FE;\n",
              "      border: none;\n",
              "      border-radius: 50%;\n",
              "      cursor: pointer;\n",
              "      display: none;\n",
              "      fill: #1967D2;\n",
              "      height: 32px;\n",
              "      padding: 0 0 0 0;\n",
              "      width: 32px;\n",
              "    }\n",
              "\n",
              "    .colab-df-convert:hover {\n",
              "      background-color: #E2EBFA;\n",
              "      box-shadow: 0px 1px 2px rgba(60, 64, 67, 0.3), 0px 1px 3px 1px rgba(60, 64, 67, 0.15);\n",
              "      fill: #174EA6;\n",
              "    }\n",
              "\n",
              "    .colab-df-buttons div {\n",
              "      margin-bottom: 4px;\n",
              "    }\n",
              "\n",
              "    [theme=dark] .colab-df-convert {\n",
              "      background-color: #3B4455;\n",
              "      fill: #D2E3FC;\n",
              "    }\n",
              "\n",
              "    [theme=dark] .colab-df-convert:hover {\n",
              "      background-color: #434B5C;\n",
              "      box-shadow: 0px 1px 3px 1px rgba(0, 0, 0, 0.15);\n",
              "      filter: drop-shadow(0px 1px 2px rgba(0, 0, 0, 0.3));\n",
              "      fill: #FFFFFF;\n",
              "    }\n",
              "  </style>\n",
              "\n",
              "    <script>\n",
              "      const buttonEl =\n",
              "        document.querySelector('#df-73bdd89c-eeaa-4d2d-a236-0b733b1e4294 button.colab-df-convert');\n",
              "      buttonEl.style.display =\n",
              "        google.colab.kernel.accessAllowed ? 'block' : 'none';\n",
              "\n",
              "      async function convertToInteractive(key) {\n",
              "        const element = document.querySelector('#df-73bdd89c-eeaa-4d2d-a236-0b733b1e4294');\n",
              "        const dataTable =\n",
              "          await google.colab.kernel.invokeFunction('convertToInteractive',\n",
              "                                                    [key], {});\n",
              "        if (!dataTable) return;\n",
              "\n",
              "        const docLinkHtml = 'Like what you see? Visit the ' +\n",
              "          '<a target=\"_blank\" href=https://colab.research.google.com/notebooks/data_table.ipynb>data table notebook</a>'\n",
              "          + ' to learn more about interactive tables.';\n",
              "        element.innerHTML = '';\n",
              "        dataTable['output_type'] = 'display_data';\n",
              "        await google.colab.output.renderOutput(dataTable, element);\n",
              "        const docLink = document.createElement('div');\n",
              "        docLink.innerHTML = docLinkHtml;\n",
              "        element.appendChild(docLink);\n",
              "      }\n",
              "    </script>\n",
              "  </div>\n",
              "\n",
              "\n",
              "<div id=\"df-8c31b37d-b9df-4b8c-8e0f-b6973b63390f\">\n",
              "  <button class=\"colab-df-quickchart\" onclick=\"quickchart('df-8c31b37d-b9df-4b8c-8e0f-b6973b63390f')\"\n",
              "            title=\"Suggest charts\"\n",
              "            style=\"display:none;\">\n",
              "\n",
              "<svg xmlns=\"http://www.w3.org/2000/svg\" height=\"24px\"viewBox=\"0 0 24 24\"\n",
              "     width=\"24px\">\n",
              "    <g>\n",
              "        <path d=\"M19 3H5c-1.1 0-2 .9-2 2v14c0 1.1.9 2 2 2h14c1.1 0 2-.9 2-2V5c0-1.1-.9-2-2-2zM9 17H7v-7h2v7zm4 0h-2V7h2v10zm4 0h-2v-4h2v4z\"/>\n",
              "    </g>\n",
              "</svg>\n",
              "  </button>\n",
              "\n",
              "<style>\n",
              "  .colab-df-quickchart {\n",
              "      --bg-color: #E8F0FE;\n",
              "      --fill-color: #1967D2;\n",
              "      --hover-bg-color: #E2EBFA;\n",
              "      --hover-fill-color: #174EA6;\n",
              "      --disabled-fill-color: #AAA;\n",
              "      --disabled-bg-color: #DDD;\n",
              "  }\n",
              "\n",
              "  [theme=dark] .colab-df-quickchart {\n",
              "      --bg-color: #3B4455;\n",
              "      --fill-color: #D2E3FC;\n",
              "      --hover-bg-color: #434B5C;\n",
              "      --hover-fill-color: #FFFFFF;\n",
              "      --disabled-bg-color: #3B4455;\n",
              "      --disabled-fill-color: #666;\n",
              "  }\n",
              "\n",
              "  .colab-df-quickchart {\n",
              "    background-color: var(--bg-color);\n",
              "    border: none;\n",
              "    border-radius: 50%;\n",
              "    cursor: pointer;\n",
              "    display: none;\n",
              "    fill: var(--fill-color);\n",
              "    height: 32px;\n",
              "    padding: 0;\n",
              "    width: 32px;\n",
              "  }\n",
              "\n",
              "  .colab-df-quickchart:hover {\n",
              "    background-color: var(--hover-bg-color);\n",
              "    box-shadow: 0 1px 2px rgba(60, 64, 67, 0.3), 0 1px 3px 1px rgba(60, 64, 67, 0.15);\n",
              "    fill: var(--button-hover-fill-color);\n",
              "  }\n",
              "\n",
              "  .colab-df-quickchart-complete:disabled,\n",
              "  .colab-df-quickchart-complete:disabled:hover {\n",
              "    background-color: var(--disabled-bg-color);\n",
              "    fill: var(--disabled-fill-color);\n",
              "    box-shadow: none;\n",
              "  }\n",
              "\n",
              "  .colab-df-spinner {\n",
              "    border: 2px solid var(--fill-color);\n",
              "    border-color: transparent;\n",
              "    border-bottom-color: var(--fill-color);\n",
              "    animation:\n",
              "      spin 1s steps(1) infinite;\n",
              "  }\n",
              "\n",
              "  @keyframes spin {\n",
              "    0% {\n",
              "      border-color: transparent;\n",
              "      border-bottom-color: var(--fill-color);\n",
              "      border-left-color: var(--fill-color);\n",
              "    }\n",
              "    20% {\n",
              "      border-color: transparent;\n",
              "      border-left-color: var(--fill-color);\n",
              "      border-top-color: var(--fill-color);\n",
              "    }\n",
              "    30% {\n",
              "      border-color: transparent;\n",
              "      border-left-color: var(--fill-color);\n",
              "      border-top-color: var(--fill-color);\n",
              "      border-right-color: var(--fill-color);\n",
              "    }\n",
              "    40% {\n",
              "      border-color: transparent;\n",
              "      border-right-color: var(--fill-color);\n",
              "      border-top-color: var(--fill-color);\n",
              "    }\n",
              "    60% {\n",
              "      border-color: transparent;\n",
              "      border-right-color: var(--fill-color);\n",
              "    }\n",
              "    80% {\n",
              "      border-color: transparent;\n",
              "      border-right-color: var(--fill-color);\n",
              "      border-bottom-color: var(--fill-color);\n",
              "    }\n",
              "    90% {\n",
              "      border-color: transparent;\n",
              "      border-bottom-color: var(--fill-color);\n",
              "    }\n",
              "  }\n",
              "</style>\n",
              "\n",
              "  <script>\n",
              "    async function quickchart(key) {\n",
              "      const quickchartButtonEl =\n",
              "        document.querySelector('#' + key + ' button');\n",
              "      quickchartButtonEl.disabled = true;  // To prevent multiple clicks.\n",
              "      quickchartButtonEl.classList.add('colab-df-spinner');\n",
              "      try {\n",
              "        const charts = await google.colab.kernel.invokeFunction(\n",
              "            'suggestCharts', [key], {});\n",
              "      } catch (error) {\n",
              "        console.error('Error during call to suggestCharts:', error);\n",
              "      }\n",
              "      quickchartButtonEl.classList.remove('colab-df-spinner');\n",
              "      quickchartButtonEl.classList.add('colab-df-quickchart-complete');\n",
              "    }\n",
              "    (() => {\n",
              "      let quickchartButtonEl =\n",
              "        document.querySelector('#df-8c31b37d-b9df-4b8c-8e0f-b6973b63390f button');\n",
              "      quickchartButtonEl.style.display =\n",
              "        google.colab.kernel.accessAllowed ? 'block' : 'none';\n",
              "    })();\n",
              "  </script>\n",
              "</div>\n",
              "\n",
              "    </div>\n",
              "  </div>\n"
            ]
          },
          "metadata": {},
          "execution_count": 17
        }
      ],
      "source": [
        "data_df.head()"
      ]
    },
    {
      "cell_type": "code",
      "execution_count": null,
      "id": "486354e0",
      "metadata": {
        "id": "486354e0"
      },
      "outputs": [],
      "source": [
        "def removeSpecialCharacters(sentence,keep_apostrophes=True):\n",
        "    sentence = sentence.strip()\n",
        "    if keep_apostrophes:\n",
        "        PATTERN = r'[?|$|&|*|%|@|(|)|~]'\n",
        "        filtered_sentence = re.sub(PATTERN, r'', sentence)\n",
        "        return filtered_sentence\n",
        "    return sentence"
      ]
    },
    {
      "cell_type": "code",
      "execution_count": null,
      "id": "56ae41d0",
      "metadata": {
        "id": "56ae41d0"
      },
      "outputs": [],
      "source": [
        "def replace_full_stops(sentence):\n",
        "    return sentence.replace(\".\",\" \")"
      ]
    },
    {
      "cell_type": "code",
      "execution_count": null,
      "id": "945365a5",
      "metadata": {
        "id": "945365a5"
      },
      "outputs": [],
      "source": [
        "data_df['comment'] = data_df.apply(lambda x: removeSpecialCharacters(x.comment), axis=1)\n",
        "data_df['comment'] = data_df.apply(lambda x: replace_full_stops(x.comment), axis=1)"
      ]
    },
    {
      "cell_type": "code",
      "execution_count": null,
      "id": "40490828",
      "metadata": {
        "id": "40490828"
      },
      "outputs": [],
      "source": [
        "def remove_english_letters(sentence):\n",
        "    non_english_sentence = re.sub(r'[a-zA-Z]', '', sentence)\n",
        "    return non_english_sentence"
      ]
    },
    {
      "cell_type": "code",
      "execution_count": null,
      "id": "59e5fe52",
      "metadata": {
        "id": "59e5fe52"
      },
      "outputs": [],
      "source": [
        "data_df['comment']  = data_df['comment'] .apply(lambda x: remove_english_letters(x))"
      ]
    },
    {
      "cell_type": "code",
      "execution_count": null,
      "id": "40b69c33",
      "metadata": {
        "id": "40b69c33"
      },
      "outputs": [],
      "source": [
        "lines = list(open('/content/drive/My Drive/data/stop-words-sinhala.txt',encoding=\"utf8\"))\n",
        "sinhala_stop_words = [re.sub(\"\\n\",\"\",x) for x in lines]"
      ]
    },
    {
      "cell_type": "code",
      "execution_count": null,
      "id": "2651903c",
      "metadata": {
        "id": "2651903c"
      },
      "outputs": [],
      "source": [
        "def tokenize_text(text):\n",
        "    tokens = nltk.word_tokenize(text)\n",
        "    tokens = [token.strip() for token in tokens]\n",
        "    return tokens"
      ]
    },
    {
      "cell_type": "code",
      "source": [
        "import nltk\n",
        "nltk.download('punkt')"
      ],
      "metadata": {
        "colab": {
          "base_uri": "https://localhost:8080/"
        },
        "id": "rZuA7ipW37yO",
        "outputId": "71159ef3-c1e6-4e88-b0b5-bf4f187153cf"
      },
      "id": "rZuA7ipW37yO",
      "execution_count": null,
      "outputs": [
        {
          "output_type": "stream",
          "name": "stderr",
          "text": [
            "[nltk_data] Downloading package punkt to /root/nltk_data...\n",
            "[nltk_data]   Unzipping tokenizers/punkt.zip.\n"
          ]
        },
        {
          "output_type": "execute_result",
          "data": {
            "text/plain": [
              "True"
            ]
          },
          "metadata": {},
          "execution_count": 25
        }
      ]
    },
    {
      "cell_type": "code",
      "execution_count": null,
      "id": "1cf1abf9",
      "metadata": {
        "id": "1cf1abf9"
      },
      "outputs": [],
      "source": [
        "data_df['token_list']  = data_df['comment'] .apply(lambda x: tokenize_text(x))"
      ]
    },
    {
      "cell_type": "code",
      "source": [
        "data_df['token_list']"
      ],
      "metadata": {
        "id": "Vk9yBCkcqG80",
        "outputId": "3233d2be-dc84-4636-ea03-85261d305316",
        "colab": {
          "base_uri": "https://localhost:8080/"
        }
      },
      "id": "Vk9yBCkcqG80",
      "execution_count": null,
      "outputs": [
        {
          "output_type": "execute_result",
          "data": {
            "text/plain": [
              "0               [`, හුදෙකලා´, එකේ, `, ද´, ඇහෙනවද, කාටහරි]\n",
              "1                                [18ක, පෙනුමක්, තියෙන්නේ]\n",
              "2       [2020, එනවා, කිව්නාට, මෙහෙම, එයි, කියලා, හිතුව...\n",
              "3                                      [25, කැල්ල, හම්මෝ]\n",
              "4                [25, කෙල්ල, අයියලගෙ, කාලද, කොහෙද, ඉන්නෙ]\n",
              "                              ...                        \n",
              "6340    [ෆට්ට, ඒත්, ඉතින්, ඔහේ, ඔක්සිජන්, ඔනී, නැතී, ස...\n",
              "6341                                             [ෆයිනලි]\n",
              "6342                                 [ෆුකෙන්, හිනා, මේවට]\n",
              "6343                 [ෆෝන්, එක, චාර්ජ්, කරගනින්,29, පට්ට]\n",
              "6344    [ෆ්ලෑශ්, ටෙලිඩ්රාමා, එක, ඇත්ත, තියරියක්, වෙන්න...\n",
              "Name: token_list, Length: 6345, dtype: object"
            ]
          },
          "metadata": {},
          "execution_count": 27
        }
      ]
    },
    {
      "cell_type": "code",
      "execution_count": null,
      "id": "5b38a21b",
      "metadata": {
        "id": "5b38a21b"
      },
      "outputs": [],
      "source": [
        "def remove_sinhala_stop_words(tokens):\n",
        "    filtered_tokens = [token for token in tokens if token not in sinhala_stop_words]\n",
        "    return filtered_tokens"
      ]
    },
    {
      "cell_type": "code",
      "execution_count": null,
      "id": "7a6d0f65",
      "metadata": {
        "id": "7a6d0f65"
      },
      "outputs": [],
      "source": [
        "data_df['token_list_after_sw'] = data_df.apply(lambda x: remove_sinhala_stop_words(x.token_list), axis=1)"
      ]
    },
    {
      "cell_type": "code",
      "execution_count": null,
      "id": "b3aee7d1",
      "metadata": {
        "id": "b3aee7d1"
      },
      "outputs": [],
      "source": [
        "def remove_two_letter_words(tokenized_words):\n",
        "    # Use list comprehension to filter out words with length 2\n",
        "    filtered_words = [word for word in tokenized_words if len(word) > 3]\n",
        "    return filtered_words"
      ]
    },
    {
      "cell_type": "code",
      "execution_count": null,
      "id": "fcb0a8df",
      "metadata": {
        "id": "fcb0a8df"
      },
      "outputs": [],
      "source": [
        "data_df['token_list_after_sw'] = data_df.apply(lambda x: remove_two_letter_words(x.token_list_after_sw), axis=1)"
      ]
    },
    {
      "cell_type": "code",
      "execution_count": null,
      "id": "8a43079e",
      "metadata": {
        "id": "8a43079e"
      },
      "outputs": [],
      "source": [
        "from nltk.tokenize.treebank import TreebankWordDetokenizer\n",
        "data_df['pre_processed_text'] = data_df.apply(lambda x: TreebankWordDetokenizer().detokenize(x.token_list_after_sw), axis=1)"
      ]
    },
    {
      "cell_type": "code",
      "source": [
        "list_of_words = ' '.join(data_df['pre_processed_text']).split()"
      ],
      "metadata": {
        "id": "dcR3zMPIHgfY"
      },
      "id": "dcR3zMPIHgfY",
      "execution_count": null,
      "outputs": []
    },
    {
      "cell_type": "code",
      "execution_count": null,
      "id": "9cbe3d6a",
      "metadata": {
        "id": "9cbe3d6a"
      },
      "outputs": [],
      "source": [
        "from collections import Counter\n",
        "import numpy as np\n",
        "#most_common_words = [word for word, count in Counter(list_of_words).items() if count in np.arange(50,100)]\n",
        "unique_words = [word for word, count in Counter(list_of_words).items() if count in [1,2,3]]\n",
        "all_words_to_remove = unique_words;\n",
        "def remove_most_common_unique_words(tokens):\n",
        "    filtered_tokens = [token for token in tokens if token not in all_words_to_remove]\n",
        "    return filtered_tokens"
      ]
    },
    {
      "cell_type": "code",
      "execution_count": null,
      "id": "b7b0f7d8",
      "metadata": {
        "id": "b7b0f7d8"
      },
      "outputs": [],
      "source": [
        "data_df['token_list_after_common_words'] = data_df.apply(lambda x: remove_most_common_unique_words(x.token_list_after_sw), axis=1)"
      ]
    },
    {
      "cell_type": "code",
      "execution_count": null,
      "id": "a9cdc18a",
      "metadata": {
        "id": "a9cdc18a"
      },
      "outputs": [],
      "source": [
        "data_df['pre_processed_text'] = data_df.apply(lambda x: TreebankWordDetokenizer().detokenize(x.token_list_after_common_words), axis=1)"
      ]
    },
    {
      "cell_type": "code",
      "execution_count": null,
      "id": "8aba84e1",
      "metadata": {
        "id": "8aba84e1"
      },
      "outputs": [],
      "source": [
        "# list_of_words = ' '.join(data_df['pre_processed_text']).split()\n",
        "# Counter(list_of_words)"
      ]
    },
    {
      "cell_type": "code",
      "execution_count": null,
      "id": "a02a54cf",
      "metadata": {
        "id": "a02a54cf"
      },
      "outputs": [],
      "source": [
        "data_df['word_count'] = data_df['pre_processed_text'].str.split().str.len()\n",
        "#data_df.head(40)"
      ]
    },
    {
      "cell_type": "code",
      "execution_count": null,
      "id": "586c442f",
      "metadata": {
        "colab": {
          "base_uri": "https://localhost:8080/"
        },
        "id": "586c442f",
        "outputId": "9bd49548-1e04-4375-b2b7-79e9809f343f"
      },
      "outputs": [
        {
          "output_type": "stream",
          "name": "stdout",
          "text": [
            "Total number of unique words <FreqDist with 16629 samples and 54176 outcomes>\n"
          ]
        }
      ],
      "source": [
        "def total_unique_words(words):\n",
        "    return nltk.FreqDist(words)\n",
        "\n",
        "print(\"Total number of unique words\",total_unique_words(list_of_words))"
      ]
    },
    {
      "cell_type": "code",
      "execution_count": null,
      "id": "9e6f6592",
      "metadata": {
        "colab": {
          "base_uri": "https://localhost:8080/"
        },
        "id": "9e6f6592",
        "outputId": "03f0a7e6-de78-4cf6-b216-f980210b6d75"
      },
      "outputs": [
        {
          "output_type": "stream",
          "name": "stdout",
          "text": [
            "Total number of words 54176\n"
          ]
        }
      ],
      "source": [
        "def total_words(words):\n",
        "    return(len(words))\n",
        "print(\"Total number of words\",total_words(list_of_words))"
      ]
    },
    {
      "cell_type": "code",
      "execution_count": null,
      "id": "e553b7e7",
      "metadata": {
        "id": "e553b7e7"
      },
      "outputs": [],
      "source": [
        "from sklearn.model_selection import train_test_split\n",
        "from sklearn import preprocessing\n",
        "label_encoder = preprocessing.LabelEncoder()"
      ]
    },
    {
      "cell_type": "code",
      "execution_count": null,
      "id": "10b0f012",
      "metadata": {
        "id": "10b0f012"
      },
      "outputs": [],
      "source": [
        "#X= data_df['pre_processed_text']\n",
        "data_df[\"final_data\"] = \"__label__\"+data_df['label'].astype(str) + \" \" + data_df[\"pre_processed_text\"]\n",
        "#data_df\n",
        "#y=label_encoder.fit_transform(data_df['Type'])"
      ]
    },
    {
      "cell_type": "code",
      "execution_count": null,
      "id": "fee0b3ef",
      "metadata": {
        "id": "fee0b3ef"
      },
      "outputs": [],
      "source": [
        "train, test = train_test_split(data_df, test_size=0.2, random_state=6)"
      ]
    },
    {
      "cell_type": "code",
      "source": [
        "train.to_csv(r\"/content/drive/My Drive/data/train.csv\",columns=['final_data'],index=False,header=False)\n"
      ],
      "metadata": {
        "id": "NblWxRAzkXpV"
      },
      "id": "NblWxRAzkXpV",
      "execution_count": null,
      "outputs": []
    },
    {
      "cell_type": "code",
      "source": [
        "test.to_csv(r\"/content/drive/My Drive/data/test.csv\",columns=['final_data'],index=False,header=False)"
      ],
      "metadata": {
        "id": "QJgBE5Kykk2l"
      },
      "id": "QJgBE5Kykk2l",
      "execution_count": null,
      "outputs": []
    },
    {
      "cell_type": "code",
      "source": [
        "!pip install fasttext"
      ],
      "metadata": {
        "colab": {
          "base_uri": "https://localhost:8080/"
        },
        "id": "ACi0gUx54WtP",
        "outputId": "1d9e3fc3-3981-4d5c-e74d-512a77370eef"
      },
      "id": "ACi0gUx54WtP",
      "execution_count": null,
      "outputs": [
        {
          "output_type": "stream",
          "name": "stdout",
          "text": [
            "Collecting fasttext\n",
            "  Downloading fasttext-0.9.2.tar.gz (68 kB)\n",
            "\u001b[?25l     \u001b[90m━━━━━━━━━━━━━━━━━━━━━━━━━━━━━━━━━━━━━━━━\u001b[0m \u001b[32m0.0/68.8 kB\u001b[0m \u001b[31m?\u001b[0m eta \u001b[36m-:--:--\u001b[0m\r\u001b[2K     \u001b[91m━━━━━━━━━━━━━━━━━━━━━━━━━━━━━━━━━━━\u001b[0m\u001b[91m╸\u001b[0m\u001b[90m━━━━\u001b[0m \u001b[32m61.4/68.8 kB\u001b[0m \u001b[31m1.6 MB/s\u001b[0m eta \u001b[36m0:00:01\u001b[0m\r\u001b[2K     \u001b[90m━━━━━━━━━━━━━━━━━━━━━━━━━━━━━━━━━━━━━━━━\u001b[0m \u001b[32m68.8/68.8 kB\u001b[0m \u001b[31m1.4 MB/s\u001b[0m eta \u001b[36m0:00:00\u001b[0m\n",
            "\u001b[?25h  Preparing metadata (setup.py) ... \u001b[?25l\u001b[?25hdone\n",
            "Collecting pybind11>=2.2 (from fasttext)\n",
            "  Using cached pybind11-2.11.1-py3-none-any.whl (227 kB)\n",
            "Requirement already satisfied: setuptools>=0.7.0 in /usr/local/lib/python3.10/dist-packages (from fasttext) (67.7.2)\n",
            "Requirement already satisfied: numpy in /usr/local/lib/python3.10/dist-packages (from fasttext) (1.23.5)\n",
            "Building wheels for collected packages: fasttext\n",
            "  Building wheel for fasttext (setup.py) ... \u001b[?25l\u001b[?25hdone\n",
            "  Created wheel for fasttext: filename=fasttext-0.9.2-cp310-cp310-linux_x86_64.whl size=4199772 sha256=eddb146ea9a9a7f4f50831bf3590801e69e74b8f16d9a5c5c5fb6ad4d0d0bc62\n",
            "  Stored in directory: /root/.cache/pip/wheels/a5/13/75/f811c84a8ab36eedbaef977a6a58a98990e8e0f1967f98f394\n",
            "Successfully built fasttext\n",
            "Installing collected packages: pybind11, fasttext\n",
            "Successfully installed fasttext-0.9.2 pybind11-2.11.1\n"
          ]
        }
      ]
    },
    {
      "cell_type": "code",
      "execution_count": null,
      "id": "1fc70e1b",
      "metadata": {
        "id": "1fc70e1b"
      },
      "outputs": [],
      "source": [
        "import fasttext as ft"
      ]
    },
    {
      "cell_type": "code",
      "source": [
        "!wget https://dl.fbaipublicfiles.com/fasttext/vectors-wiki/wiki.si.vec"
      ],
      "metadata": {
        "colab": {
          "base_uri": "https://localhost:8080/"
        },
        "id": "dTIKoM8I3zLr",
        "outputId": "2aa48d5b-e158-4f6c-c70f-2ac5ab4aaea3"
      },
      "id": "dTIKoM8I3zLr",
      "execution_count": null,
      "outputs": [
        {
          "output_type": "stream",
          "name": "stdout",
          "text": [
            "--2024-02-01 15:40:04--  https://dl.fbaipublicfiles.com/fasttext/vectors-wiki/wiki.si.vec\n",
            "Resolving dl.fbaipublicfiles.com (dl.fbaipublicfiles.com)... 18.165.83.35, 18.165.83.79, 18.165.83.91, ...\n",
            "Connecting to dl.fbaipublicfiles.com (dl.fbaipublicfiles.com)|18.165.83.35|:443... connected.\n",
            "HTTP request sent, awaiting response... 200 OK\n",
            "Length: 209303120 (200M) [binary/octet-stream]\n",
            "Saving to: ‘wiki.si.vec’\n",
            "\n",
            "wiki.si.vec         100%[===================>] 199.61M  45.6MB/s    in 4.6s    \n",
            "\n",
            "2024-02-01 15:40:09 (43.3 MB/s) - ‘wiki.si.vec’ saved [209303120/209303120]\n",
            "\n"
          ]
        }
      ]
    },
    {
      "cell_type": "code",
      "source": [
        "model = ft.train_supervised(input=\"/content/drive/My Drive/data/train.csv\", lr=0.2,loss='hs', epoch=75, wordNgrams=3, dim=300, thread=2, verbose=100,pretrainedVectors=\"wiki.si.vec\")\n"
      ],
      "metadata": {
        "id": "muoStkhV2Zw3"
      },
      "id": "muoStkhV2Zw3",
      "execution_count": null,
      "outputs": []
    },
    {
      "cell_type": "code",
      "execution_count": null,
      "id": "e6e0bb13",
      "metadata": {
        "id": "e6e0bb13"
      },
      "outputs": [],
      "source": [
        "#classifier = ft.train_supervised(input=\"/content/drive/My Drive/data/train.csv\",dim = 30, ws = 5, lr=1.0, epoch=30, wordNgrams=4,)"
      ]
    },
    {
      "cell_type": "code",
      "source": [
        "out= model.test(r\"/content/drive/My Drive/data/test.csv\")"
      ],
      "metadata": {
        "id": "_1dOcHTAipNR"
      },
      "id": "_1dOcHTAipNR",
      "execution_count": null,
      "outputs": []
    },
    {
      "cell_type": "code",
      "source": [
        "#numberofsamples  #precision # recall\n",
        "out"
      ],
      "metadata": {
        "id": "795_3x7aEHJm",
        "colab": {
          "base_uri": "https://localhost:8080/"
        },
        "outputId": "ba8a03bf-f60f-43ef-9d0c-e6a5a2d3e362"
      },
      "id": "795_3x7aEHJm",
      "execution_count": null,
      "outputs": [
        {
          "output_type": "execute_result",
          "data": {
            "text/plain": [
              "(1266, 0.8341232227488151, 0.8341232227488151)"
            ]
          },
          "metadata": {},
          "execution_count": 60
        }
      ]
    },
    {
      "cell_type": "code",
      "source": [
        "model.predict(\"25 කෙල්ල අයියලගෙ කාලද කොහෙද ඉන්නෙ\",k=2)"
      ],
      "metadata": {
        "colab": {
          "base_uri": "https://localhost:8080/"
        },
        "id": "eAHdGavVlni3",
        "outputId": "1b4b3c75-3bb2-4485-aa8d-637584c8ec3b"
      },
      "id": "eAHdGavVlni3",
      "execution_count": null,
      "outputs": [
        {
          "output_type": "execute_result",
          "data": {
            "text/plain": [
              "(('__label__1', '__label__0'), array([0.91723984, 0.08278017]))"
            ]
          },
          "metadata": {},
          "execution_count": 61
        }
      ]
    },
    {
      "cell_type": "code",
      "source": [],
      "metadata": {
        "id": "wNw9mzGiVVc3"
      },
      "id": "wNw9mzGiVVc3",
      "execution_count": null,
      "outputs": []
    }
  ],
  "metadata": {
    "kernelspec": {
      "display_name": "Python 3 (ipykernel)",
      "language": "python",
      "name": "python3"
    },
    "language_info": {
      "codemirror_mode": {
        "name": "ipython",
        "version": 3
      },
      "file_extension": ".py",
      "mimetype": "text/x-python",
      "name": "python",
      "nbconvert_exporter": "python",
      "pygments_lexer": "ipython3",
      "version": "3.9.7"
    },
    "colab": {
      "provenance": []
    }
  },
  "nbformat": 4,
  "nbformat_minor": 5
}